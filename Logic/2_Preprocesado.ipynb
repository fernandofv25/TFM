{
 "cells": [
  {
   "cell_type": "markdown",
   "id": "3df4f54b",
   "metadata": {},
   "source": [
    "# PREPROCESADO\n"
   ]
  },
  {
   "cell_type": "markdown",
   "id": "4d82e3de",
   "metadata": {},
   "source": [
    "#### Introducción\n",
    "\n",
    "Este código lee archivos EDF que contienen registros de señales fisiológicas. Itera sobre los registros del paciente S001R01 al S001R14. Para cada archivo, lee la información básica como el número de canales, etiquetas de canal, frecuencia de muestreo y las señales registradas. Luego calcula y muestra la duración total de cada registro en segundos."
   ]
  },
  {
   "cell_type": "code",
   "execution_count": 35,
   "id": "ea4e4a85",
   "metadata": {},
   "outputs": [],
   "source": [
    "import pyedflib\n",
    "from tabulate import tabulate\n",
    "import numpy as np\n",
    "import json"
   ]
  },
  {
   "cell_type": "code",
   "execution_count": 3,
   "id": "71ef740d",
   "metadata": {},
   "outputs": [],
   "source": [
    "SX = 109\n",
    "RX = 14"
   ]
  },
  {
   "cell_type": "code",
   "execution_count": 5,
   "id": "a10f95b1",
   "metadata": {},
   "outputs": [
    {
     "name": "stdout",
     "output_type": "stream",
     "text": [
      "Tiempo total del archivo ../Data/Raw/S001R01.edf: 61.0 segundos\n",
      "Tiempo total del archivo ../Data/Raw/S001R02.edf: 61.0 segundos\n",
      "Tiempo total del archivo ../Data/Raw/S001R03.edf: 125.0 segundos\n",
      "Tiempo total del archivo ../Data/Raw/S001R04.edf: 125.0 segundos\n",
      "Tiempo total del archivo ../Data/Raw/S001R05.edf: 125.0 segundos\n",
      "Tiempo total del archivo ../Data/Raw/S001R06.edf: 125.0 segundos\n",
      "Tiempo total del archivo ../Data/Raw/S001R07.edf: 125.0 segundos\n",
      "Tiempo total del archivo ../Data/Raw/S001R08.edf: 125.0 segundos\n",
      "Tiempo total del archivo ../Data/Raw/S001R09.edf: 125.0 segundos\n",
      "Tiempo total del archivo ../Data/Raw/S001R10.edf: 125.0 segundos\n",
      "Tiempo total del archivo ../Data/Raw/S001R11.edf: 125.0 segundos\n",
      "Tiempo total del archivo ../Data/Raw/S001R12.edf: 125.0 segundos\n",
      "Tiempo total del archivo ../Data/Raw/S001R13.edf: 125.0 segundos\n",
      "Tiempo total del archivo ../Data/Raw/S001R14.edf: 125.0 segundos\n"
     ]
    }
   ],
   "source": [
    "# Leer todos los registros S001R01 a S001R14\n",
    "for registro in range(1, RX+1):\n",
    "    file_name = f\"../Data/Raw/S001R{registro:02d}.edf\"\n",
    "    try:\n",
    "        with pyedflib.EdfReader(file_name) as f:\n",
    "            n_channels = f.signals_in_file\n",
    "            channel_labels = f.getSignalLabels()\n",
    "            sample_frequency = f.getSampleFrequency(0)\n",
    "            signals = [f.readSignal(i) for i in range(n_channels)]\n",
    "            # Calcular el número total de muestras\n",
    "            total_samples = len(signals[0])\n",
    "        \n",
    "            # Calcular la duración total en segundos\n",
    "            total_time = total_samples / sample_frequency\n",
    "            print(f\"Tiempo total del archivo {file_name}: {total_time} segundos\")\n",
    "    except Exception as e:\n",
    "        print(f\"Error al leer el archivo {file_name}: {e}\")\n"
   ]
  },
  {
   "cell_type": "code",
   "execution_count": 9,
   "id": "9c57ad72",
   "metadata": {},
   "outputs": [
    {
     "name": "stdout",
     "output_type": "stream",
     "text": [
      "Tiempo de los registros de los pacientes en segundos:\n",
      "\n",
      "Paciente      R01    R02     R03     R04     R05     R06     R07     R08     R09     R10     R11     R12     R13     R14\n",
      "----------  -----  -----  ------  ------  ------  ------  ------  ------  ------  ------  ------  ------  ------  ------\n",
      "S001        61.00  61.00  125.00  125.00  125.00  125.00  125.00  125.00  125.00  125.00  125.00  125.00  125.00  125.00\n",
      "S002        61.00  61.00  123.00  123.00  123.00  123.00  123.00  123.00  123.00  123.00  123.00  123.00  123.00  123.00\n",
      "S003        61.00  61.00  125.00  125.00  125.00  125.00  125.00  125.00  125.00  125.00  125.00  125.00  125.00  125.00\n",
      "S004        61.00  61.00  123.00  123.00  123.00  123.00  123.00  123.00  123.00  123.00  123.00  123.00  123.00  123.00\n",
      "S005        61.00  61.00  123.00  123.00  123.00  123.00  123.00  123.00  123.00  123.00  123.00  123.00  123.00  123.00\n",
      "S006        61.00  61.00  123.00  123.00  123.00  123.00  123.00  123.00  123.00  123.00  123.00  123.00  123.00  123.00\n",
      "S007        61.00  61.00  125.00  125.00  125.00  125.00  125.00  125.00  125.00  125.00  125.00  125.00  125.00  125.00\n",
      "S008        61.00  61.00  123.00  123.00  123.00  123.00  123.00  123.00  123.00  123.00  123.00  123.00  123.00  123.00\n",
      "S009        61.00  61.00  123.00  123.00  123.00  123.00  123.00  123.00  123.00  123.00  123.00  123.00  123.00  123.00\n",
      "S010        61.00  61.00  123.00  123.00  123.00  123.00  123.00  123.00  123.00  123.00  123.00  123.00  123.00  123.00\n",
      "S011        61.00  61.00  123.00  123.00  123.00  123.00  123.00  123.00  123.00  123.00  123.00  123.00  123.00  123.00\n",
      "S012        61.00  61.00  123.00  123.00  123.00  123.00  123.00  123.00  123.00  123.00  123.00  123.00  123.00  123.00\n",
      "S013        61.00  61.00  123.00  123.00  123.00  123.00  123.00  123.00  123.00  123.00  123.00  123.00  123.00  123.00\n",
      "S014        60.00  61.00  123.00  123.00  123.00  123.00  123.00  123.00  123.00  123.00  123.00  123.00  123.00  123.00\n",
      "S015        61.00  61.00  123.00  123.00  123.00  123.00  123.00  123.00  123.00  123.00  123.00  123.00  123.00  123.00\n",
      "S016        61.00  61.00  123.00  123.00  123.00  123.00  123.00  123.00  123.00  123.00  123.00  123.00  123.00  123.00\n",
      "S017        61.00  61.00  123.00  123.00  123.00  123.00  123.00  123.00  123.00  123.00  123.00  123.00  123.00  123.00\n",
      "S018        61.00  61.00  123.00  123.00  123.00  123.00  123.00  123.00  123.00  123.00  123.00  123.00  123.00  123.00\n",
      "S019        61.00  61.00  123.00  123.00  123.00  123.00  123.00  123.00  123.00  123.00  123.00  123.00  123.00  123.00\n",
      "S020        61.00  61.00  123.00  123.00  123.00  123.00  123.00  123.00  123.00  123.00  123.00  123.00  123.00  123.00\n"
     ]
    }
   ],
   "source": [
    "# Lista para almacenar los tiempos de los registros de cada paciente\n",
    "paciente_times = []\n",
    "\n",
    "# Leer todos los registros S001 a S020\n",
    "for paciente in range(1, SX+1):\n",
    "    time = []\n",
    "    for registro in range(1, RX+1):\n",
    "        file_name = f\"../Data/Raw/S{paciente:03d}R{registro:02d}.edf\"\n",
    "        try:\n",
    "            with pyedflib.EdfReader(file_name) as f:\n",
    "                sample_frequency = f.getSampleFrequency(0)\n",
    "                total_samples = f.getNSamples()[0]\n",
    "                total_time = total_samples / sample_frequency\n",
    "                time.append(total_time)\n",
    "        except Exception as e:\n",
    "            print(f\"Error al leer el archivo {file_name}: {e}\")\n",
    "    \n",
    "    # Agregar los tiempos al paciente_times\n",
    "    paciente_times.append([f\"S{paciente:03d}\", *time])\n",
    "\n",
    "print(\"Tiempo de los registros de los pacientes en segundos:\\n\")\n",
    "# Imprimir la tabla\n",
    "headers = [\"Paciente\", *[f\"R{registro:02d}\" for registro in range(1, 15)]]\n",
    "print(tabulate(paciente_times, headers=headers, floatfmt=\".2f\"))\n"
   ]
  },
  {
   "cell_type": "markdown",
   "id": "54c908bc",
   "metadata": {},
   "source": []
  },
  {
   "cell_type": "code",
   "execution_count": 29,
   "id": "522f290c",
   "metadata": {},
   "outputs": [
    {
     "name": "stdout",
     "output_type": "stream",
     "text": [
      "Ficheros del paciente S001: ¡Guardados correctamente!\n",
      "Ficheros del paciente S002: ¡Guardados correctamente!\n",
      "Ficheros del paciente S003: ¡Guardados correctamente!\n",
      "Ficheros del paciente S004: ¡Guardados correctamente!\n",
      "Ficheros del paciente S005: ¡Guardados correctamente!\n",
      "Ficheros del paciente S006: ¡Guardados correctamente!\n",
      "Ficheros del paciente S007: ¡Guardados correctamente!\n",
      "Ficheros del paciente S008: ¡Guardados correctamente!\n",
      "Ficheros del paciente S009: ¡Guardados correctamente!\n",
      "Ficheros del paciente S010: ¡Guardados correctamente!\n",
      "Ficheros del paciente S011: ¡Guardados correctamente!\n",
      "Ficheros del paciente S012: ¡Guardados correctamente!\n",
      "Ficheros del paciente S013: ¡Guardados correctamente!\n",
      "Ficheros del paciente S014: ¡Guardados correctamente!\n",
      "Ficheros del paciente S015: ¡Guardados correctamente!\n",
      "Ficheros del paciente S016: ¡Guardados correctamente!\n",
      "Ficheros del paciente S017: ¡Guardados correctamente!\n",
      "Ficheros del paciente S018: ¡Guardados correctamente!\n",
      "Ficheros del paciente S019: ¡Guardados correctamente!\n",
      "Ficheros del paciente S020: ¡Guardados correctamente!\n",
      "\n",
      "Total de registros guardados: 280\n"
     ]
    }
   ],
   "source": [
    "data = []\n",
    "\n",
    "for paciente in range(1, SX+1):\n",
    "    for registro in range(1, RX+1):\n",
    "        file_name = f\"../Data/Raw/S{paciente:03d}R{registro:02d}.edf\"\n",
    "        try:\n",
    "            \n",
    "            with pyedflib.EdfReader(file_name) as f:\n",
    "                n_channels = f.signals_in_file\n",
    "                channel_labels = f.getSignalLabels()\n",
    "                sample_frequency = f.getSampleFrequency(0)\n",
    "                signals = [f.readSignal(i) for i in range(n_channels)]\n",
    "                \n",
    "                # Obtener información básica\n",
    "                n_channels = f.signals_in_file\n",
    "                channel_labels = f.getSignalLabels()\n",
    "                # Se asume que todas las señales tienen la misma frecuencia de muestreo\n",
    "                sample_frequency = f.getSampleFrequency(0)\n",
    "\n",
    "                # Leer todas las señales\n",
    "                #signals = np.zeros((n_channels, f.getNSamples()[0]))\n",
    "                signals = []\n",
    "                for i in range(n_channels):\n",
    "                    signal = f.readSignal(i)\n",
    "                    signals.append(signal.tolist())\n",
    "                    #signals[i] = f.readSignal(i)\n",
    "                \n",
    "                data.append(signals)\n",
    "                \n",
    "        except Exception as e:\n",
    "            print(f\"Error al leer el archivo {file_name}: {e}\")\n",
    "            \n",
    "    print(f\"Ficheros del paciente S{paciente:03d}: ¡Guardados correctamente!\")\n",
    "print(f\"\\nTotal de registros guardados: {len(data)}\")"
   ]
  },
  {
   "cell_type": "markdown",
   "id": "dc102fbc",
   "metadata": {},
   "source": [
    "Texto 4: Este código imprime el contenido de data de manera estructurada, mostrando los datos de cada registro, canal y señal. "
   ]
  },
  {
   "cell_type": "code",
   "execution_count": 30,
   "id": "74012d29",
   "metadata": {},
   "outputs": [
    {
     "name": "stdout",
     "output_type": "stream",
     "text": [
      "-Datos de registro 280:\n",
      "-Datos de canales 64:\n",
      "-Datos de señales por canal 9760:\n"
     ]
    }
   ],
   "source": [
    "print(f\"-Datos de registro {len(data)}:\")\n",
    "print(f\"-Datos de canales {len(data[0])}:\")\n",
    "print(f\"-Datos de señales por canal {len(data[0][0])}:\")"
   ]
  },
  {
   "cell_type": "code",
   "execution_count": 31,
   "id": "de9ad932",
   "metadata": {},
   "outputs": [
    {
     "name": "stdout",
     "output_type": "stream",
     "text": [
      "-Datos del registro 1:\n",
      "\t-Canal 1:\n",
      "\t\t-Señal 1: -16.0\n",
      "\t\t-Señal 2: -56.0\n",
      "\t\t...\n",
      "\t-Canal 2:\n",
      "\t\t-Señal 1: -29.0\n",
      "\t\t-Señal 2: -54.0\n",
      "\t\t...\n",
      "-Datos del registro 2:\n",
      "\t-Canal 1:\n",
      "\t\t-Señal 1: -46.0\n",
      "\t\t-Señal 2: -54.0\n",
      "\t\t...\n",
      "\t-Canal 2:\n",
      "\t\t-Señal 1: -41.0\n",
      "\t\t-Señal 2: -48.0\n",
      "\t\t...\n"
     ]
    }
   ],
   "source": [
    "for i, paciente_data in enumerate(data[:2], start=1):\n",
    "    print(f\"-Datos del registro {i}:\")\n",
    "    for j, registro_data in enumerate(paciente_data[:2], start=1):\n",
    "        print(f\"\\t-Canal {j}:\")\n",
    "        for k, signal_data in enumerate(registro_data[:2], start=1):\n",
    "            print(f\"\\t\\t-Señal {k}: {signal_data}\")\n",
    "        print(f\"\\t\\t...\")"
   ]
  },
  {
   "cell_type": "code",
   "execution_count": null,
   "id": "18df9791",
   "metadata": {},
   "outputs": [],
   "source": [
    "# Guardar datos en un archivo JSON\n",
    "#try: \n",
    "#    with open('datos.json', 'w') as archivo:\n",
    "#        json.dump(data, archivo)\n",
    "#    print(\"Datos guardados exitosamente en 'datos.json'.\")\n",
    "#except Exception as e:\n",
    "#    print(f\"Error al guardar los datpd: {e}\")"
   ]
  },
  {
   "cell_type": "markdown",
   "id": "66ff34ff",
   "metadata": {},
   "source": [
    "### Padding a la derecha \n",
    "En el contexto del aprendizaje automático, el padding es comúnmente utilizado cuando se trabaja con secuencias de longitud variable, como en el procesamiento de texto o en el análisis de series temporales.\n",
    "\n",
    "Padding es una técnica usada en el procesamiento de secuencias de longitud variable, una situación frecuente en el análisis de datos biomédicos como el EEG. Aplicamos padding a los datos EEG, para asegurarnos de que todas las secuencias tengan la misma longitud.\n",
    "\n",
    "#### Padding a la derecha (o padding a la izquierda)\n",
    "\n",
    "Agregamos ceros a los registros para completar la longitud maxima de las grabaciones.\n",
    "\n",
    "Ejemplo:\n",
    "    Registro original: \"123\"\n",
    "    Registro con padding a la derecha: \"1230000000\"\n",
    "\n"
   ]
  },
  {
   "cell_type": "code",
   "execution_count": 32,
   "id": "9207ce60",
   "metadata": {},
   "outputs": [
    {
     "data": {
      "text/plain": [
       "20000"
      ]
     },
     "execution_count": 32,
     "metadata": {},
     "output_type": "execute_result"
    }
   ],
   "source": [
    "# Encontrar el máximo número de valores en un dato\n",
    "max_len = max(len(registro) for sublist in data for registro in sublist)\n",
    "max_len"
   ]
  },
  {
   "cell_type": "code",
   "execution_count": 36,
   "id": "a8daf9d8",
   "metadata": {},
   "outputs": [
    {
     "data": {
      "text/plain": [
       "20000"
      ]
     },
     "execution_count": 36,
     "metadata": {},
     "output_type": "execute_result"
    }
   ],
   "source": [
    "# Encontrar el mínimo número de valores en un dato\n",
    "min_len = min(len(registro) for sublist in data for registro in sublist)\n",
    "min_len"
   ]
  },
  {
   "cell_type": "code",
   "execution_count": 33,
   "id": "6f21d5ab",
   "metadata": {},
   "outputs": [],
   "source": [
    "data_padding_right = data\n",
    "#Rellenar los datos faltantes con 0\n",
    "for sublist in data_padding_right:\n",
    "    for e in sublist:\n",
    "        while len(e) < max_len:\n",
    "            e.append(0)"
   ]
  },
  {
   "cell_type": "markdown",
   "id": "15f4d781",
   "metadata": {},
   "source": [
    "#### Padding Truncamiento a la derecha (o truncamiento a la izquierda):\n",
    "\n",
    "Agregamos ceros a los registros para completar la longitud maxima de las grabaciones.\n",
    "\n",
    "Ejemplo:\n",
    "    Registro original: \"123\"\n",
    "    Registro con padding a la derecha: \"1230000000\""
   ]
  },
  {
   "cell_type": "markdown",
   "id": "2c8bda90",
   "metadata": {},
   "source": [
    "## Guardar los datos\n",
    "\n",
    "Por último almacenamos los datos en formato json"
   ]
  },
  {
   "cell_type": "code",
   "execution_count": 15,
   "id": "61937fb1",
   "metadata": {},
   "outputs": [
    {
     "name": "stdout",
     "output_type": "stream",
     "text": [
      "Error al guardar los datos: name 'ruta_archivo' is not defined\n"
     ]
    }
   ],
   "source": [
    "#try:\n",
    "#    for index, item in enumerate(data):\n",
    "#        file_name = f'../Data/Preprocessed/S{index + 1:03}.json'\n",
    "#        with open(file_name, 'w') as archivo:\n",
    "#            json.dump(item, archivo)\n",
    "#        print(f\"Datos cargados exitosamente desde '{ruta_archivo}'.\")\n",
    "#    print(f\"Datos del índice {index} guardados exitosamente en '{file_name}'.\")\n",
    "#except Exception as e:\n",
    "#    print(f\"Error al guardar los datos: {e}\")"
   ]
  },
  {
   "cell_type": "code",
   "execution_count": 34,
   "id": "f4d6d649",
   "metadata": {
    "scrolled": false
   },
   "outputs": [
    {
     "name": "stdout",
     "output_type": "stream",
     "text": [
      "Datos cargados exitosamente en 'S001R003.json'.\n",
      "Datos cargados exitosamente en 'S001R004.json'.\n",
      "Datos cargados exitosamente en 'S001R005.json'.\n",
      "Datos cargados exitosamente en 'S001R006.json'.\n",
      "Datos cargados exitosamente en 'S001R007.json'.\n",
      "Datos cargados exitosamente en 'S001R008.json'.\n",
      "Datos cargados exitosamente en 'S001R009.json'.\n",
      "Datos cargados exitosamente en 'S001R010.json'.\n",
      "Datos cargados exitosamente en 'S001R011.json'.\n",
      "Datos cargados exitosamente en 'S001R012.json'.\n",
      "Datos cargados exitosamente en 'S001R013.json'.\n",
      "Datos cargados exitosamente en 'S001R014.json'.\n",
      "Datos cargados exitosamente en 'S002R003.json'.\n",
      "Datos cargados exitosamente en 'S002R004.json'.\n",
      "Datos cargados exitosamente en 'S002R005.json'.\n",
      "Datos cargados exitosamente en 'S002R006.json'.\n",
      "Datos cargados exitosamente en 'S002R007.json'.\n",
      "Datos cargados exitosamente en 'S002R008.json'.\n",
      "Datos cargados exitosamente en 'S002R009.json'.\n",
      "Datos cargados exitosamente en 'S002R010.json'.\n",
      "Datos cargados exitosamente en 'S002R011.json'.\n",
      "Datos cargados exitosamente en 'S002R012.json'.\n",
      "Datos cargados exitosamente en 'S002R013.json'.\n",
      "Datos cargados exitosamente en 'S002R014.json'.\n",
      "Datos cargados exitosamente en 'S003R003.json'.\n",
      "Datos cargados exitosamente en 'S003R004.json'.\n",
      "Datos cargados exitosamente en 'S003R005.json'.\n",
      "Datos cargados exitosamente en 'S003R006.json'.\n",
      "Datos cargados exitosamente en 'S003R007.json'.\n",
      "Datos cargados exitosamente en 'S003R008.json'.\n",
      "Datos cargados exitosamente en 'S003R009.json'.\n",
      "Datos cargados exitosamente en 'S003R010.json'.\n",
      "Datos cargados exitosamente en 'S003R011.json'.\n",
      "Datos cargados exitosamente en 'S003R012.json'.\n",
      "Datos cargados exitosamente en 'S003R013.json'.\n",
      "Datos cargados exitosamente en 'S003R014.json'.\n",
      "Datos cargados exitosamente en 'S004R003.json'.\n",
      "Datos cargados exitosamente en 'S004R004.json'.\n",
      "Datos cargados exitosamente en 'S004R005.json'.\n",
      "Datos cargados exitosamente en 'S004R006.json'.\n",
      "Datos cargados exitosamente en 'S004R007.json'.\n",
      "Datos cargados exitosamente en 'S004R008.json'.\n",
      "Datos cargados exitosamente en 'S004R009.json'.\n",
      "Datos cargados exitosamente en 'S004R010.json'.\n",
      "Datos cargados exitosamente en 'S004R011.json'.\n",
      "Datos cargados exitosamente en 'S004R012.json'.\n",
      "Datos cargados exitosamente en 'S004R013.json'.\n",
      "Datos cargados exitosamente en 'S004R014.json'.\n",
      "Datos cargados exitosamente en 'S005R003.json'.\n",
      "Datos cargados exitosamente en 'S005R004.json'.\n",
      "Datos cargados exitosamente en 'S005R005.json'.\n",
      "Datos cargados exitosamente en 'S005R006.json'.\n",
      "Datos cargados exitosamente en 'S005R007.json'.\n",
      "Datos cargados exitosamente en 'S005R008.json'.\n",
      "Datos cargados exitosamente en 'S005R009.json'.\n",
      "Datos cargados exitosamente en 'S005R010.json'.\n",
      "Datos cargados exitosamente en 'S005R011.json'.\n",
      "Datos cargados exitosamente en 'S005R012.json'.\n",
      "Datos cargados exitosamente en 'S005R013.json'.\n",
      "Datos cargados exitosamente en 'S005R014.json'.\n",
      "Datos cargados exitosamente en 'S006R003.json'.\n",
      "Datos cargados exitosamente en 'S006R004.json'.\n",
      "Datos cargados exitosamente en 'S006R005.json'.\n",
      "Datos cargados exitosamente en 'S006R006.json'.\n",
      "Datos cargados exitosamente en 'S006R007.json'.\n",
      "Datos cargados exitosamente en 'S006R008.json'.\n",
      "Datos cargados exitosamente en 'S006R009.json'.\n",
      "Datos cargados exitosamente en 'S006R010.json'.\n",
      "Datos cargados exitosamente en 'S006R011.json'.\n",
      "Datos cargados exitosamente en 'S006R012.json'.\n",
      "Datos cargados exitosamente en 'S006R013.json'.\n",
      "Datos cargados exitosamente en 'S006R014.json'.\n",
      "Datos cargados exitosamente en 'S007R003.json'.\n",
      "Datos cargados exitosamente en 'S007R004.json'.\n",
      "Datos cargados exitosamente en 'S007R005.json'.\n",
      "Datos cargados exitosamente en 'S007R006.json'.\n",
      "Datos cargados exitosamente en 'S007R007.json'.\n",
      "Datos cargados exitosamente en 'S007R008.json'.\n",
      "Datos cargados exitosamente en 'S007R009.json'.\n",
      "Datos cargados exitosamente en 'S007R010.json'.\n",
      "Datos cargados exitosamente en 'S007R011.json'.\n",
      "Datos cargados exitosamente en 'S007R012.json'.\n",
      "Datos cargados exitosamente en 'S007R013.json'.\n",
      "Datos cargados exitosamente en 'S007R014.json'.\n",
      "Datos cargados exitosamente en 'S008R003.json'.\n",
      "Datos cargados exitosamente en 'S008R004.json'.\n",
      "Datos cargados exitosamente en 'S008R005.json'.\n",
      "Datos cargados exitosamente en 'S008R006.json'.\n",
      "Datos cargados exitosamente en 'S008R007.json'.\n",
      "Datos cargados exitosamente en 'S008R008.json'.\n",
      "Datos cargados exitosamente en 'S008R009.json'.\n",
      "Datos cargados exitosamente en 'S008R010.json'.\n",
      "Datos cargados exitosamente en 'S008R011.json'.\n",
      "Datos cargados exitosamente en 'S008R012.json'.\n",
      "Datos cargados exitosamente en 'S008R013.json'.\n",
      "Datos cargados exitosamente en 'S008R014.json'.\n",
      "Datos cargados exitosamente en 'S009R003.json'.\n",
      "Datos cargados exitosamente en 'S009R004.json'.\n",
      "Datos cargados exitosamente en 'S009R005.json'.\n",
      "Datos cargados exitosamente en 'S009R006.json'.\n",
      "Datos cargados exitosamente en 'S009R007.json'.\n",
      "Datos cargados exitosamente en 'S009R008.json'.\n",
      "Datos cargados exitosamente en 'S009R009.json'.\n",
      "Datos cargados exitosamente en 'S009R010.json'.\n",
      "Datos cargados exitosamente en 'S009R011.json'.\n",
      "Datos cargados exitosamente en 'S009R012.json'.\n",
      "Datos cargados exitosamente en 'S009R013.json'.\n",
      "Datos cargados exitosamente en 'S009R014.json'.\n",
      "Datos cargados exitosamente en 'S010R003.json'.\n",
      "Datos cargados exitosamente en 'S010R004.json'.\n",
      "Datos cargados exitosamente en 'S010R005.json'.\n",
      "Datos cargados exitosamente en 'S010R006.json'.\n",
      "Datos cargados exitosamente en 'S010R007.json'.\n",
      "Datos cargados exitosamente en 'S010R008.json'.\n",
      "Datos cargados exitosamente en 'S010R009.json'.\n",
      "Datos cargados exitosamente en 'S010R010.json'.\n",
      "Datos cargados exitosamente en 'S010R011.json'.\n",
      "Datos cargados exitosamente en 'S010R012.json'.\n",
      "Datos cargados exitosamente en 'S010R013.json'.\n",
      "Datos cargados exitosamente en 'S010R014.json'.\n",
      "Datos cargados exitosamente en 'S011R003.json'.\n",
      "Datos cargados exitosamente en 'S011R004.json'.\n",
      "Datos cargados exitosamente en 'S011R005.json'.\n",
      "Datos cargados exitosamente en 'S011R006.json'.\n",
      "Datos cargados exitosamente en 'S011R007.json'.\n",
      "Datos cargados exitosamente en 'S011R008.json'.\n",
      "Datos cargados exitosamente en 'S011R009.json'.\n",
      "Datos cargados exitosamente en 'S011R010.json'.\n",
      "Datos cargados exitosamente en 'S011R011.json'.\n",
      "Datos cargados exitosamente en 'S011R012.json'.\n",
      "Datos cargados exitosamente en 'S011R013.json'.\n",
      "Datos cargados exitosamente en 'S011R014.json'.\n",
      "Datos cargados exitosamente en 'S012R003.json'.\n",
      "Datos cargados exitosamente en 'S012R004.json'.\n",
      "Datos cargados exitosamente en 'S012R005.json'.\n",
      "Datos cargados exitosamente en 'S012R006.json'.\n",
      "Datos cargados exitosamente en 'S012R007.json'.\n",
      "Datos cargados exitosamente en 'S012R008.json'.\n",
      "Datos cargados exitosamente en 'S012R009.json'.\n",
      "Datos cargados exitosamente en 'S012R010.json'.\n",
      "Datos cargados exitosamente en 'S012R011.json'.\n",
      "Datos cargados exitosamente en 'S012R012.json'.\n",
      "Datos cargados exitosamente en 'S012R013.json'.\n",
      "Datos cargados exitosamente en 'S012R014.json'.\n",
      "Datos cargados exitosamente en 'S013R003.json'.\n",
      "Datos cargados exitosamente en 'S013R004.json'.\n",
      "Datos cargados exitosamente en 'S013R005.json'.\n",
      "Datos cargados exitosamente en 'S013R006.json'.\n",
      "Datos cargados exitosamente en 'S013R007.json'.\n",
      "Datos cargados exitosamente en 'S013R008.json'.\n",
      "Datos cargados exitosamente en 'S013R009.json'.\n",
      "Datos cargados exitosamente en 'S013R010.json'.\n",
      "Datos cargados exitosamente en 'S013R011.json'.\n",
      "Datos cargados exitosamente en 'S013R012.json'.\n",
      "Datos cargados exitosamente en 'S013R013.json'.\n",
      "Datos cargados exitosamente en 'S013R014.json'.\n",
      "Datos cargados exitosamente en 'S014R003.json'.\n",
      "Datos cargados exitosamente en 'S014R004.json'.\n",
      "Datos cargados exitosamente en 'S014R005.json'.\n",
      "Datos cargados exitosamente en 'S014R006.json'.\n",
      "Datos cargados exitosamente en 'S014R007.json'.\n",
      "Datos cargados exitosamente en 'S014R008.json'.\n",
      "Datos cargados exitosamente en 'S014R009.json'.\n",
      "Datos cargados exitosamente en 'S014R010.json'.\n",
      "Datos cargados exitosamente en 'S014R011.json'.\n",
      "Datos cargados exitosamente en 'S014R012.json'.\n",
      "Datos cargados exitosamente en 'S014R013.json'.\n",
      "Datos cargados exitosamente en 'S014R014.json'.\n",
      "Datos cargados exitosamente en 'S015R003.json'.\n",
      "Datos cargados exitosamente en 'S015R004.json'.\n",
      "Datos cargados exitosamente en 'S015R005.json'.\n"
     ]
    },
    {
     "name": "stdout",
     "output_type": "stream",
     "text": [
      "Datos cargados exitosamente en 'S015R006.json'.\n",
      "Datos cargados exitosamente en 'S015R007.json'.\n",
      "Datos cargados exitosamente en 'S015R008.json'.\n",
      "Datos cargados exitosamente en 'S015R009.json'.\n",
      "Datos cargados exitosamente en 'S015R010.json'.\n",
      "Datos cargados exitosamente en 'S015R011.json'.\n",
      "Datos cargados exitosamente en 'S015R012.json'.\n",
      "Datos cargados exitosamente en 'S015R013.json'.\n",
      "Datos cargados exitosamente en 'S015R014.json'.\n",
      "Datos cargados exitosamente en 'S016R003.json'.\n",
      "Datos cargados exitosamente en 'S016R004.json'.\n",
      "Datos cargados exitosamente en 'S016R005.json'.\n",
      "Datos cargados exitosamente en 'S016R006.json'.\n",
      "Datos cargados exitosamente en 'S016R007.json'.\n",
      "Datos cargados exitosamente en 'S016R008.json'.\n",
      "Datos cargados exitosamente en 'S016R009.json'.\n",
      "Datos cargados exitosamente en 'S016R010.json'.\n",
      "Datos cargados exitosamente en 'S016R011.json'.\n",
      "Datos cargados exitosamente en 'S016R012.json'.\n",
      "Datos cargados exitosamente en 'S016R013.json'.\n",
      "Datos cargados exitosamente en 'S016R014.json'.\n",
      "Datos cargados exitosamente en 'S017R003.json'.\n",
      "Datos cargados exitosamente en 'S017R004.json'.\n",
      "Datos cargados exitosamente en 'S017R005.json'.\n",
      "Datos cargados exitosamente en 'S017R006.json'.\n",
      "Datos cargados exitosamente en 'S017R007.json'.\n",
      "Datos cargados exitosamente en 'S017R008.json'.\n",
      "Datos cargados exitosamente en 'S017R009.json'.\n",
      "Datos cargados exitosamente en 'S017R010.json'.\n",
      "Datos cargados exitosamente en 'S017R011.json'.\n",
      "Datos cargados exitosamente en 'S017R012.json'.\n",
      "Datos cargados exitosamente en 'S017R013.json'.\n",
      "Datos cargados exitosamente en 'S017R014.json'.\n",
      "Datos cargados exitosamente en 'S018R003.json'.\n",
      "Datos cargados exitosamente en 'S018R004.json'.\n",
      "Datos cargados exitosamente en 'S018R005.json'.\n",
      "Datos cargados exitosamente en 'S018R006.json'.\n",
      "Datos cargados exitosamente en 'S018R007.json'.\n",
      "Datos cargados exitosamente en 'S018R008.json'.\n",
      "Datos cargados exitosamente en 'S018R009.json'.\n",
      "Datos cargados exitosamente en 'S018R010.json'.\n",
      "Datos cargados exitosamente en 'S018R011.json'.\n",
      "Datos cargados exitosamente en 'S018R012.json'.\n",
      "Datos cargados exitosamente en 'S018R013.json'.\n",
      "Datos cargados exitosamente en 'S018R014.json'.\n",
      "Datos cargados exitosamente en 'S019R003.json'.\n",
      "Datos cargados exitosamente en 'S019R004.json'.\n",
      "Datos cargados exitosamente en 'S019R005.json'.\n",
      "Datos cargados exitosamente en 'S019R006.json'.\n",
      "Datos cargados exitosamente en 'S019R007.json'.\n",
      "Datos cargados exitosamente en 'S019R008.json'.\n",
      "Datos cargados exitosamente en 'S019R009.json'.\n",
      "Datos cargados exitosamente en 'S019R010.json'.\n",
      "Datos cargados exitosamente en 'S019R011.json'.\n",
      "Datos cargados exitosamente en 'S019R012.json'.\n",
      "Datos cargados exitosamente en 'S019R013.json'.\n",
      "Datos cargados exitosamente en 'S019R014.json'.\n",
      "Datos cargados exitosamente en 'S020R003.json'.\n",
      "Datos cargados exitosamente en 'S020R004.json'.\n",
      "Datos cargados exitosamente en 'S020R005.json'.\n",
      "Datos cargados exitosamente en 'S020R006.json'.\n",
      "Datos cargados exitosamente en 'S020R007.json'.\n",
      "Datos cargados exitosamente en 'S020R008.json'.\n",
      "Datos cargados exitosamente en 'S020R009.json'.\n",
      "Datos cargados exitosamente en 'S020R010.json'.\n",
      "Datos cargados exitosamente en 'S020R011.json'.\n",
      "Datos cargados exitosamente en 'S020R012.json'.\n",
      "Datos cargados exitosamente en 'S020R013.json'.\n",
      "Datos cargados exitosamente en 'S020R014.json'.\n",
      "Todos los datos han sido guardados correctamente.\n"
     ]
    }
   ],
   "source": [
    "import json\n",
    "import os\n",
    "\n",
    "try:\n",
    "    patientx = 1\n",
    "    registerx = 1\n",
    "    for index, item in enumerate(data):\n",
    "        \n",
    "        # No guardamos los dos registros iniciales\n",
    "        if(registerx>2):\n",
    "            file_name = f'../Data/Preprocessed/S{patientx:03}R{registerx:03}.json'\n",
    "            with open(file_name, 'w') as archivo:\n",
    "                json.dump(item, archivo)\n",
    "        \n",
    "            print(f\"Datos cargados exitosamente en 'S{patientx:03}R{registerx:03}.json'.\")\n",
    "        \n",
    "        if(registerx<14):\n",
    "            registerx+=1\n",
    "        else:\n",
    "            patientx += 1\n",
    "            registerx = 1\n",
    "        \n",
    "    print(\"/nTodos los datos han sido guardados correctamente.\")\n",
    "    \n",
    "except Exception as e:\n",
    "    print(f\"Error al guardar los datos: {e}\")\n"
   ]
  }
 ],
 "metadata": {
  "kernelspec": {
   "display_name": "Python 3 (ipykernel)",
   "language": "python",
   "name": "python3"
  },
  "language_info": {
   "codemirror_mode": {
    "name": "ipython",
    "version": 3
   },
   "file_extension": ".py",
   "mimetype": "text/x-python",
   "name": "python",
   "nbconvert_exporter": "python",
   "pygments_lexer": "ipython3",
   "version": "3.9.11"
  }
 },
 "nbformat": 4,
 "nbformat_minor": 5
}
