{
 "cells": [
  {
   "cell_type": "markdown",
   "id": "b52eea42",
   "metadata": {},
   "source": [
    "# Descarga del conjunto de datos\n",
    "\n",
    "Código para automatizar la descarga de los registros eeg de la base de datos. Se encarga de descargar un archivo desde la URL especificada "
   ]
  },
  {
   "cell_type": "markdown",
   "id": "bce37b82",
   "metadata": {},
   "source": [
    "**Bibliotecas necesarias para realizar solicitudes HTTP y procesar HTML**"
   ]
  },
  {
   "cell_type": "code",
   "execution_count": null,
   "id": "c3213f22",
   "metadata": {},
   "outputs": [],
   "source": [
    "import requests\n",
    "from bs4 import BeautifulSoup"
   ]
  },
  {
   "cell_type": "markdown",
   "id": "8cd9a6e5",
   "metadata": {},
   "source": [
    "Realizamos solicitud GET con stream=True, lo que permite la descarga de grandes archivos en \"trozos\" sin necesidad de cargar todo el archivo en la memoria de una vez."
   ]
  },
  {
   "cell_type": "code",
   "execution_count": null,
   "id": "8aa9aadb",
   "metadata": {},
   "outputs": [],
   "source": [
    "def download_file(url, index):\n",
    "    local_filename = url.split('/')[-1]\n",
    "    r = requests.get(url, stream=True)\n",
    "    with open(local_filename, 'wb') as f:\n",
    "        for chunk in r.iter_content(chunk_size=1024):\n",
    "            if chunk:\n",
    "                f.write(chunk)\n",
    "                f.flush()\n",
    "    return local_filename"
   ]
  },
  {
   "cell_type": "markdown",
   "id": "3917f67d",
   "metadata": {},
   "source": [
    "Descargamos desde el 1 al registro 109, con 14 registros por paciente. "
   ]
  },
  {
   "cell_type": "code",
   "execution_count": null,
   "id": "353383aa",
   "metadata": {},
   "outputs": [],
   "source": [
    "\n",
    "for i in range(1, 110):\n",
    "\n",
    "    if i < 10:\n",
    "        root_link=\"https://archive.physionet.org/pn4/eegmmidb/S00\" + str(i) + \"/\"\n",
    "    elif i >= 10 and i < 100 :\n",
    "        root_link = \"https://archive.physionet.org/pn4/eegmmidb/S0\" + str(i) + \"/\"\n",
    "    else:\n",
    "        root_link = \"https://archive.physionet.org/pn4/eegmmidb/S\" + str(i) + \"/\"\n",
    "\n",
    "    r=requests.get(root_link)\n",
    "\n",
    "    if r.status_code==200:\n",
    "        soup=BeautifulSoup(r.text, features=\"html.parser\")\n",
    "        # print(soup.prettify())\n",
    "        index=1\n",
    "        for link in soup.find_all('a'):\n",
    "            new_link=root_link+link.get('href')\n",
    "\n",
    "            if new_link.endswith(\".edf\"):\n",
    "                file_path=download_file(new_link,str(index))\n",
    "                print(\"downloading:\"+new_link+\" -> \"+file_path)\n",
    "                index+=1\n",
    "\n",
    "        print(\"all download finished\")\n",
    "      \n",
    "    else:\n",
    "        print(\"errors occur.\")"
   ]
  },
  {
   "cell_type": "code",
   "execution_count": null,
   "id": "51024b55",
   "metadata": {},
   "outputs": [],
   "source": []
  },
  {
   "cell_type": "code",
   "execution_count": null,
   "id": "d5133cfe",
   "metadata": {},
   "outputs": [],
   "source": []
  }
 ],
 "metadata": {
  "kernelspec": {
   "display_name": "Python 3 (ipykernel)",
   "language": "python",
   "name": "python3"
  },
  "language_info": {
   "codemirror_mode": {
    "name": "ipython",
    "version": 3
   },
   "file_extension": ".py",
   "mimetype": "text/x-python",
   "name": "python",
   "nbconvert_exporter": "python",
   "pygments_lexer": "ipython3",
   "version": "3.9.11"
  }
 },
 "nbformat": 4,
 "nbformat_minor": 5
}
