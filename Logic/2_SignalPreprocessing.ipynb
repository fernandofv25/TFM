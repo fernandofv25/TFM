{
 "cells": [
  {
   "cell_type": "markdown",
   "id": "3df4f54b",
   "metadata": {},
   "source": [
    "# Preprocesado\n",
    "\n"
   ]
  },
  {
   "cell_type": "markdown",
   "id": "4d82e3de",
   "metadata": {},
   "source": [
    "#### Introducción\n",
    "\n",
    "Este código lee archivos EDF que contienen registros de señales fisiológicas. Itera sobre los registros del paciente S001R01 al S001R14. Para cada archivo, lee la información básica como el número de canales, etiquetas de canal, frecuencia de muestreo y las señales registradas. Luego calcula y muestra la duración total de cada registro en segundos."
   ]
  },
  {
   "cell_type": "code",
   "execution_count": 1,
   "id": "ea4e4a85",
   "metadata": {},
   "outputs": [],
   "source": [
    "import pyedflib\n",
    "from tabulate import tabulate\n",
    "import numpy as np\n",
    "import json\n",
    "import os"
   ]
  },
  {
   "cell_type": "code",
   "execution_count": 2,
   "id": "71ef740d",
   "metadata": {},
   "outputs": [],
   "source": [
    "SX = 50 #109\n",
    "RX = 14"
   ]
  },
  {
   "cell_type": "markdown",
   "id": "1f7fe700",
   "metadata": {},
   "source": [
    "Probamos a registrar los tiempos de los registros del primer paciente"
   ]
  },
  {
   "cell_type": "code",
   "execution_count": 3,
   "id": "a10f95b1",
   "metadata": {},
   "outputs": [
    {
     "name": "stdout",
     "output_type": "stream",
     "text": [
      "Tiempo total del archivo ../Data/Raw/S001R01.edf: 61.0 segundos\n",
      "Tiempo total del archivo ../Data/Raw/S001R02.edf: 61.0 segundos\n",
      "Tiempo total del archivo ../Data/Raw/S001R03.edf: 125.0 segundos\n",
      "Tiempo total del archivo ../Data/Raw/S001R04.edf: 125.0 segundos\n",
      "Tiempo total del archivo ../Data/Raw/S001R05.edf: 125.0 segundos\n",
      "Tiempo total del archivo ../Data/Raw/S001R06.edf: 125.0 segundos\n",
      "Tiempo total del archivo ../Data/Raw/S001R07.edf: 125.0 segundos\n",
      "Tiempo total del archivo ../Data/Raw/S001R08.edf: 125.0 segundos\n",
      "Tiempo total del archivo ../Data/Raw/S001R09.edf: 125.0 segundos\n",
      "Tiempo total del archivo ../Data/Raw/S001R10.edf: 125.0 segundos\n",
      "Tiempo total del archivo ../Data/Raw/S001R11.edf: 125.0 segundos\n",
      "Tiempo total del archivo ../Data/Raw/S001R12.edf: 125.0 segundos\n",
      "Tiempo total del archivo ../Data/Raw/S001R13.edf: 125.0 segundos\n",
      "Tiempo total del archivo ../Data/Raw/S001R14.edf: 125.0 segundos\n"
     ]
    }
   ],
   "source": [
    "# Leer todos los registros S001R01 a S001R14\n",
    "for registro in range(1, RX+1):\n",
    "    file_name = f\"../Data/Raw/S001R{registro:02d}.edf\"\n",
    "    try:\n",
    "        with pyedflib.EdfReader(file_name) as f:\n",
    "            n_channels = f.signals_in_file\n",
    "            channel_labels = f.getSignalLabels()\n",
    "            sample_frequency = f.getSampleFrequency(0)\n",
    "            signals = [f.readSignal(i) for i in range(n_channels)]\n",
    "            # Calcular el número total de muestras\n",
    "            total_samples = len(signals[0])\n",
    "        \n",
    "            # Calcular la duración total en segundos\n",
    "            total_time = total_samples / sample_frequency\n",
    "            print(f\"Tiempo total del archivo {file_name}: {total_time} segundos\")\n",
    "    except Exception as e:\n",
    "        print(f\"Error al leer el archivo {file_name}: {e}\")\n"
   ]
  },
  {
   "cell_type": "markdown",
   "id": "66ce30b0",
   "metadata": {},
   "source": [
    "Registramos los tiempos de 20 pacientes de muestra"
   ]
  },
  {
   "cell_type": "code",
   "execution_count": 4,
   "id": "9c57ad72",
   "metadata": {},
   "outputs": [
    {
     "name": "stdout",
     "output_type": "stream",
     "text": [
      "Tiempo de los registros de los pacientes en segundos:\n",
      "\n",
      "Paciente      R01    R02     R03     R04     R05     R06     R07     R08     R09     R10     R11     R12     R13     R14\n",
      "----------  -----  -----  ------  ------  ------  ------  ------  ------  ------  ------  ------  ------  ------  ------\n",
      "S001        61.00  61.00  125.00  125.00  125.00  125.00  125.00  125.00  125.00  125.00  125.00  125.00  125.00  125.00\n",
      "S002        61.00  61.00  123.00  123.00  123.00  123.00  123.00  123.00  123.00  123.00  123.00  123.00  123.00  123.00\n",
      "S003        61.00  61.00  125.00  125.00  125.00  125.00  125.00  125.00  125.00  125.00  125.00  125.00  125.00  125.00\n",
      "S004        61.00  61.00  123.00  123.00  123.00  123.00  123.00  123.00  123.00  123.00  123.00  123.00  123.00  123.00\n",
      "S005        61.00  61.00  123.00  123.00  123.00  123.00  123.00  123.00  123.00  123.00  123.00  123.00  123.00  123.00\n",
      "S006        61.00  61.00  123.00  123.00  123.00  123.00  123.00  123.00  123.00  123.00  123.00  123.00  123.00  123.00\n",
      "S007        61.00  61.00  125.00  125.00  125.00  125.00  125.00  125.00  125.00  125.00  125.00  125.00  125.00  125.00\n",
      "S008        61.00  61.00  123.00  123.00  123.00  123.00  123.00  123.00  123.00  123.00  123.00  123.00  123.00  123.00\n",
      "S009        61.00  61.00  123.00  123.00  123.00  123.00  123.00  123.00  123.00  123.00  123.00  123.00  123.00  123.00\n",
      "S010        61.00  61.00  123.00  123.00  123.00  123.00  123.00  123.00  123.00  123.00  123.00  123.00  123.00  123.00\n",
      "S011        61.00  61.00  123.00  123.00  123.00  123.00  123.00  123.00  123.00  123.00  123.00  123.00  123.00  123.00\n",
      "S012        61.00  61.00  123.00  123.00  123.00  123.00  123.00  123.00  123.00  123.00  123.00  123.00  123.00  123.00\n",
      "S013        61.00  61.00  123.00  123.00  123.00  123.00  123.00  123.00  123.00  123.00  123.00  123.00  123.00  123.00\n",
      "S014        60.00  61.00  123.00  123.00  123.00  123.00  123.00  123.00  123.00  123.00  123.00  123.00  123.00  123.00\n",
      "S015        61.00  61.00  123.00  123.00  123.00  123.00  123.00  123.00  123.00  123.00  123.00  123.00  123.00  123.00\n",
      "S016        61.00  61.00  123.00  123.00  123.00  123.00  123.00  123.00  123.00  123.00  123.00  123.00  123.00  123.00\n",
      "S017        61.00  61.00  123.00  123.00  123.00  123.00  123.00  123.00  123.00  123.00  123.00  123.00  123.00  123.00\n",
      "S018        61.00  61.00  123.00  123.00  123.00  123.00  123.00  123.00  123.00  123.00  123.00  123.00  123.00  123.00\n",
      "S019        61.00  61.00  123.00  123.00  123.00  123.00  123.00  123.00  123.00  123.00  123.00  123.00  123.00  123.00\n",
      "S020        61.00  61.00  123.00  123.00  123.00  123.00  123.00  123.00  123.00  123.00  123.00  123.00  123.00  123.00\n",
      "S021        61.00  61.00  125.00  125.00  125.00  125.00  125.00  125.00  125.00  125.00  125.00  125.00  125.00  125.00\n",
      "S022        61.00  61.00  125.00  125.00  125.00  125.00  125.00  125.00  125.00  125.00  125.00  125.00  125.00  125.00\n",
      "S023        61.00  61.00  123.00  123.00  123.00  123.00  123.00  123.00  123.00  123.00  123.00  123.00  123.00  123.00\n",
      "S024        61.00  61.00  123.00  123.00  123.00  123.00  123.00  123.00  123.00  123.00  123.00  123.00  123.00  123.00\n",
      "S025        61.00  61.00  123.00  123.00  123.00  123.00  123.00  123.00  123.00  123.00  123.00  123.00  123.00  123.00\n",
      "S026        61.00  61.00  123.00  123.00  123.00  123.00  123.00  123.00  123.00  123.00  123.00  123.00  123.00  123.00\n",
      "S027        61.00  61.00  123.00  123.00  123.00  123.00  123.00  123.00  123.00  123.00  123.00  123.00  123.00  123.00\n",
      "S028        61.00  61.00  123.00  123.00  123.00  123.00  123.00  123.00  123.00  123.00  123.00  123.00  123.00  123.00\n",
      "S029        61.00  61.00  124.00  124.00  124.00  124.00  124.00  124.00  124.00  124.00  124.00  124.00  124.00  124.00\n",
      "S030        61.00  61.00  124.00  124.00  124.00  124.00  124.00  124.00  124.00  124.00  124.00  124.00  124.00  124.00\n",
      "S031        61.00  61.00  123.00  123.00  123.00  123.00  123.00  123.00  123.00  123.00  123.00  123.00  123.00  123.00\n",
      "S032        61.00  61.00  125.00  125.00  125.00  125.00  125.00  125.00  125.00  125.00  125.00  125.00  125.00  125.00\n",
      "S033        61.00  61.00  123.00  123.00  123.00  123.00  123.00  123.00  123.00  123.00  123.00  123.00  123.00  123.00\n",
      "S034        61.00  61.00  123.00  124.00  123.00  123.00  123.00  123.00  123.00  123.00  123.00  123.00  123.00  123.00\n",
      "S035        61.00  61.00  125.00  125.00  125.00  125.00  125.00  125.00  125.00  125.00  125.00  125.00  125.00  125.00\n",
      "S036        61.00  61.00  123.00  123.00  123.00  123.00  123.00  123.00  123.00  123.00  123.00  123.00  123.00  123.00\n",
      "S037        61.00  61.00  123.00  124.00  123.00  123.00  123.00  123.00  123.00  123.00  123.00  123.00  123.00  123.00\n",
      "S038        61.00  61.00  123.00  123.00  123.00  123.00  123.00  123.00  123.00  123.00  123.00  123.00  123.00  123.00\n",
      "S039        61.00  61.00  123.00  123.00  123.00  123.00  123.00  123.00  123.00  123.00  123.00  123.00  123.00  123.00\n",
      "S040        61.00  61.00  123.00  123.00  123.00  123.00  123.00  123.00  123.00  123.00  123.00  123.00  123.00  123.00\n",
      "S041        61.00  61.00  123.00  124.00  123.00  123.00  123.00  123.00  123.00  124.00  123.00  124.00  123.00  124.00\n",
      "S042        61.00  61.00  123.00  123.00  123.00  123.00  123.00  123.00  123.00  123.00  123.00  123.00  123.00  123.00\n",
      "S043        61.00  61.00  123.00  123.00  123.00  123.00  123.00  123.00  123.00  123.00  123.00  123.00  123.00  123.00\n",
      "S044        61.00  61.00  123.00  123.00  123.00  123.00  123.00  123.00  123.00  123.00  123.00  123.00  123.00  123.00\n",
      "S045        61.00  61.00  123.00  123.00  123.00  123.00  123.00  123.00  123.00  123.00  123.00  123.00  123.00  123.00\n",
      "S046        61.00  61.00  125.00  125.00  125.00  125.00  125.00  125.00  125.00  125.00  125.00  125.00  125.00  125.00\n",
      "S047        61.00  61.00  123.00  123.00  123.00  123.00  123.00  123.00  123.00  123.00  123.00  123.00  123.00  123.00\n",
      "S048        61.00  61.00  123.00  123.00  123.00  123.00  123.00  123.00  123.00  123.00  123.00  123.00  123.00  123.00\n",
      "S049        61.00  61.00  123.00  123.00  123.00  123.00  123.00  123.00  123.00  123.00  123.00  123.00  123.00  123.00\n",
      "S050        61.00  61.00  123.00  123.00  123.00  123.00  123.00  123.00  123.00  123.00  123.00  123.00  123.00  123.00\n"
     ]
    }
   ],
   "source": [
    "# Lista para almacenar los tiempos de los registros de cada paciente\n",
    "paciente_times = []\n",
    "\n",
    "# Leer todos los registros S001 a S020\n",
    "for paciente in range(1, SX+1):\n",
    "    time = []\n",
    "    for registro in range(1, RX+1):\n",
    "        file_name = f\"../Data/Raw/S{paciente:03d}R{registro:02d}.edf\"\n",
    "        try:\n",
    "            with pyedflib.EdfReader(file_name) as f:\n",
    "                sample_frequency = f.getSampleFrequency(0)\n",
    "                total_samples = f.getNSamples()[0]\n",
    "                total_time = total_samples / sample_frequency\n",
    "                time.append(total_time)\n",
    "        except Exception as e:\n",
    "            print(f\"Error al leer el archivo {file_name}: {e}\")\n",
    "    \n",
    "    # Agregar los tiempos al paciente_times\n",
    "    paciente_times.append([f\"S{paciente:03d}\", *time])\n",
    "\n",
    "print(\"Tiempo de los registros de los pacientes en segundos:\\n\")\n",
    "# Imprimir la tabla\n",
    "headers = [\"Paciente\", *[f\"R{registro:02d}\" for registro in range(1, 15)]]\n",
    "print(tabulate(paciente_times, headers=headers, floatfmt=\".2f\"))\n"
   ]
  },
  {
   "cell_type": "markdown",
   "id": "a8122c11",
   "metadata": {},
   "source": [
    "Guardamos en la variable data los ficheros preprocesados en una lista en 3 niveles"
   ]
  },
  {
   "cell_type": "code",
   "execution_count": null,
   "id": "522f290c",
   "metadata": {},
   "outputs": [
    {
     "name": "stdout",
     "output_type": "stream",
     "text": [
      "Ficheros del paciente S001: ¡Guardados correctamente!\n",
      "Ficheros del paciente S002: ¡Guardados correctamente!\n",
      "Ficheros del paciente S003: ¡Guardados correctamente!\n",
      "Ficheros del paciente S004: ¡Guardados correctamente!\n",
      "Ficheros del paciente S005: ¡Guardados correctamente!\n",
      "Ficheros del paciente S006: ¡Guardados correctamente!\n",
      "Ficheros del paciente S007: ¡Guardados correctamente!\n",
      "Ficheros del paciente S008: ¡Guardados correctamente!\n",
      "Ficheros del paciente S009: ¡Guardados correctamente!\n",
      "Ficheros del paciente S010: ¡Guardados correctamente!\n",
      "Ficheros del paciente S011: ¡Guardados correctamente!\n",
      "Ficheros del paciente S012: ¡Guardados correctamente!\n",
      "Ficheros del paciente S013: ¡Guardados correctamente!\n",
      "Ficheros del paciente S014: ¡Guardados correctamente!\n",
      "Ficheros del paciente S015: ¡Guardados correctamente!\n",
      "Ficheros del paciente S016: ¡Guardados correctamente!\n",
      "Ficheros del paciente S017: ¡Guardados correctamente!\n"
     ]
    }
   ],
   "source": [
    "data = []\n",
    "\n",
    "for paciente in range(1, SX+1):\n",
    "    for registro in range(1, RX+1):\n",
    "        file_name = f\"../Data/Raw/S{paciente:03d}R{registro:02d}.edf\"\n",
    "        try:\n",
    "            \n",
    "            with pyedflib.EdfReader(file_name) as f:\n",
    "                n_channels = f.signals_in_file\n",
    "                channel_labels = f.getSignalLabels()\n",
    "                sample_frequency = f.getSampleFrequency(0)\n",
    "                signals = [f.readSignal(i) for i in range(n_channels)]\n",
    "                \n",
    "                # Obtener información básica\n",
    "                n_channels = f.signals_in_file\n",
    "                channel_labels = f.getSignalLabels()\n",
    "                # Se asume que todas las señales tienen la misma frecuencia de muestreo\n",
    "                sample_frequency = f.getSampleFrequency(0)\n",
    "\n",
    "                # Leer todas las señales\n",
    "                #signals = np.zeros((n_channels, f.getNSamples()[0]))\n",
    "                signals = []\n",
    "                for i in range(n_channels):\n",
    "                    signal = f.readSignal(i)\n",
    "                    signals.append(signal.tolist())\n",
    "                    #signals[i] = f.readSignal(i)\n",
    "                \n",
    "                data.append(signals)\n",
    "                \n",
    "        except Exception as e:\n",
    "            print(f\"Error al leer el archivo {file_name}: {e}\")\n",
    "            \n",
    "    print(f\"Ficheros del paciente S{paciente:03d}: ¡Guardados correctamente!\")\n",
    "print(f\"\\nTotal de registros guardados: {len(data)}\")"
   ]
  },
  {
   "cell_type": "markdown",
   "id": "dc102fbc",
   "metadata": {},
   "source": [
    "Este código imprime el contenido de data de manera estructurada, mostrando los datos de cada registro, canal y señal. "
   ]
  },
  {
   "cell_type": "code",
   "execution_count": null,
   "id": "74012d29",
   "metadata": {},
   "outputs": [],
   "source": [
    "print(f\"-Datos de registro {len(data)}:\")\n",
    "print(f\"-Datos de canales {len(data[0])}:\")\n",
    "print(f\"-Datos de señales por canal {len(data[0][0])}:\")"
   ]
  },
  {
   "cell_type": "markdown",
   "id": "bc93c526",
   "metadata": {},
   "source": [
    "Explicación de los niveles de la lista data"
   ]
  },
  {
   "cell_type": "code",
   "execution_count": null,
   "id": "de9ad932",
   "metadata": {},
   "outputs": [],
   "source": [
    "for i, paciente_data in enumerate(data[:2], start=1):\n",
    "    print(f\"-Datos del registro {i}:\")\n",
    "    for j, registro_data in enumerate(paciente_data[:2], start=1):\n",
    "        print(f\"\\t-Canal {j}:\")\n",
    "        for k, signal_data in enumerate(registro_data[:2], start=1):\n",
    "            print(f\"\\t\\t-Señal {k}: {signal_data}\")\n",
    "        print(f\"\\t\\t...\")"
   ]
  },
  {
   "cell_type": "code",
   "execution_count": null,
   "id": "18df9791",
   "metadata": {},
   "outputs": [],
   "source": [
    "# Guardar datos en un archivo JSON\n",
    "#try: \n",
    "#    with open('datos.json', 'w') as archivo:\n",
    "#        json.dump(data, archivo)\n",
    "#    print(\"Datos guardados exitosamente en 'datos.json'.\")\n",
    "#except Exception as e:\n",
    "#    print(f\"Error al guardar los datpd: {e}\")"
   ]
  },
  {
   "cell_type": "markdown",
   "id": "66ff34ff",
   "metadata": {},
   "source": [
    "### Padding a la derecha \n",
    "En el contexto del aprendizaje automático, el padding es comúnmente utilizado cuando se trabaja con secuencias de longitud variable, como en el procesamiento de texto o en el análisis de series temporales.\n",
    "\n",
    "Padding es una técnica usada en el procesamiento de secuencias de longitud variable, una situación frecuente en el análisis de datos biomédicos como el EEG. Aplicamos padding a los datos EEG, para asegurarnos de que todas las secuencias tengan la misma longitud.\n",
    "\n",
    "#### Padding a la derecha\n",
    "\n",
    "Agregamos ceros a los registros para completar la longitud maxima de las grabaciones.\n",
    "\n",
    "Ejemplo:\n",
    "    Registros originales: \"123\"   y \"12345654566\"\n",
    "    Registro con padding a la derecha: \"1230000000\"\n",
    "    \n",
    "#### Padding a la izquierda\n",
    "\n",
    "Eliminamos los registros finales que superen a la longitud del minimo registro..\n",
    "\n",
    "Ejemplo:\n",
    "    Registros originales: \"123\"   y \"12345654566\"\n",
    "    Registro con padding a la derecha: \"123\"\n",
    "\n"
   ]
  },
  {
   "cell_type": "code",
   "execution_count": null,
   "id": "9207ce60",
   "metadata": {},
   "outputs": [],
   "source": [
    "# Encontrar el máximo número de valores en un dato\n",
    "max_len = max(len(registro) for sublist in data for registro in sublist)\n",
    "max_len"
   ]
  },
  {
   "cell_type": "code",
   "execution_count": null,
   "id": "a8daf9d8",
   "metadata": {},
   "outputs": [],
   "source": [
    "# Encontrar el mínimo número de valores en un dato\n",
    "min_len = min(len(registro) for sublist in data for registro in sublist)\n",
    "min_len"
   ]
  },
  {
   "cell_type": "code",
   "execution_count": null,
   "id": "40558145",
   "metadata": {},
   "outputs": [],
   "source": [
    "def padding_right(data):\n",
    "    max_len = max(len(registro) for sublist in data for registro in sublist)\n",
    "    data_padding_right = []\n",
    "    \n",
    "    # Rellenar los datos faltantes con 0\n",
    "    for sublist in data:\n",
    "        padded_sublist = [registro + [0] * (max_len - len(registro)) for registro in sublist]\n",
    "        data_padding_right.append(padded_sublist)\n",
    "    \n",
    "    return data_padding_right\n",
    "\n",
    "def padding_left(data):\n",
    "    min_len = min(len(registro) for sublist in data for registro in sublist)\n",
    "    data_padding_left = []\n",
    "\n",
    "    # Eliminar registros sobrantes desde el lado derecho\n",
    "    for sublist in data:\n",
    "        padded_sublist = [registro[-min_len:] for registro in sublist]\n",
    "        data_padding_left.append(padded_sublist)\n",
    "    \n",
    "    return data_padding_left\n"
   ]
  },
  {
   "cell_type": "code",
   "execution_count": null,
   "id": "9e32a89f",
   "metadata": {},
   "outputs": [],
   "source": [
    "data_padding = padding_left(data)"
   ]
  },
  {
   "cell_type": "code",
   "execution_count": null,
   "id": "aa8c72a7",
   "metadata": {},
   "outputs": [],
   "source": [
    "len(data_padding[0][0])"
   ]
  },
  {
   "cell_type": "markdown",
   "id": "c43c4550",
   "metadata": {},
   "source": [
    "data_padding_right = data\n",
    "#Rellenar los datos faltantes con 0\n",
    "for sublist in data_padding_right:\n",
    "    for e in sublist:\n",
    "        while len(e) < max_len:\n",
    "            e.append(0)"
   ]
  },
  {
   "cell_type": "markdown",
   "id": "2c8bda90",
   "metadata": {},
   "source": [
    "## Guardar los datos\n",
    "\n",
    "Por último almacenamos los datos en formato json"
   ]
  },
  {
   "cell_type": "code",
   "execution_count": null,
   "id": "61937fb1",
   "metadata": {},
   "outputs": [],
   "source": [
    "#try:\n",
    "#    for index, item in enumerate(data):\n",
    "#        file_name = f'../Data/Preprocessed/S{index + 1:03}.json'\n",
    "#        with open(file_name, 'w') as archivo:\n",
    "#            json.dump(item, archivo)\n",
    "#        print(f\"Datos cargados exitosamente desde '{ruta_archivo}'.\")\n",
    "#    print(f\"Datos del índice {index} guardados exitosamente en '{file_name}'.\")\n",
    "#except Exception as e:\n",
    "#    print(f\"Error al guardar los datos: {e}\")"
   ]
  },
  {
   "cell_type": "code",
   "execution_count": null,
   "id": "f4d6d649",
   "metadata": {
    "scrolled": true
   },
   "outputs": [],
   "source": [
    "try:\n",
    "    patientx = 1\n",
    "    registerx = 1\n",
    "    for index, item in enumerate(mata_padding):\n",
    "        \n",
    "        # No guardamos los dos registros iniciales\n",
    "        if(registerx>2):\n",
    "            file_name = f'../Data/Preprocessed/S{patientx:03}R{registerx:03}_raw.json'\n",
    "            with open(file_name, 'w') as archivo:\n",
    "                json.dump(item, archivo)\n",
    "        \n",
    "            print(f\"Datos cargados exitosamente en 'S{patientx:03}R{registerx:03}_raw.json'.\")\n",
    "        \n",
    "        if(registerx<14):\n",
    "            registerx+=1\n",
    "        else:\n",
    "            patientx += 1\n",
    "            registerx = 1\n",
    "        \n",
    "    print(f\"Todos los datos han sido guardados correctamente.\")\n",
    "    \n",
    "except Exception as e:\n",
    "    print(f\"Error al guardar los datos: {e}\")\n"
   ]
  },
  {
   "cell_type": "code",
   "execution_count": null,
   "id": "144e70f9",
   "metadata": {},
   "outputs": [],
   "source": []
  }
 ],
 "metadata": {
  "kernelspec": {
   "display_name": "Python 3 (ipykernel)",
   "language": "python",
   "name": "python3"
  },
  "language_info": {
   "codemirror_mode": {
    "name": "ipython",
    "version": 3
   },
   "file_extension": ".py",
   "mimetype": "text/x-python",
   "name": "python",
   "nbconvert_exporter": "python",
   "pygments_lexer": "ipython3",
   "version": "3.9.11"
  }
 },
 "nbformat": 4,
 "nbformat_minor": 5
}
